{
 "cells": [
  {
   "cell_type": "code",
   "execution_count": 4,
   "id": "96fd1b6b-82f7-4e3e-ad70-daaae0fee784",
   "metadata": {},
   "outputs": [
    {
     "name": "stdout",
     "output_type": "stream",
     "text": [
      "Statistiques sur les vélos :\n",
      "Nombre total de vélos : 2382\n",
      "Nombre de vélos mécaniques : 0\n",
      "Nombre de vélos électriques : 0\n",
      "Pourcentage de vélos mécaniques : 0.0\n",
      "Pourcentage de vélos électriques : 0.0\n"
     ]
    }
   ],
   "source": [
    "import requests\n",
    "\n",
    "def obtenir_donnees_velos():\n",
    "    # Clé API JCDecaux\n",
    "    cle_api = \"e0a1bf2c844edb9084efc764c089dd748676cc14\"\n",
    "    url = f\"https://api.jcdecaux.com/vls/v3/stations?apiKey={cle_api}\"\n",
    "\n",
    "    # Effectue une requête GET à l'API JCDecaux pour obtenir les données des stations de vélos\n",
    "    reponse = requests.get(url)\n",
    "\n",
    "    # Vérifie si la requête a réussi (code 200) ou non\n",
    "    if reponse.status_code == 200:\n",
    "        # Si la requête a réussi, récupère les données au format JSON\n",
    "        donnees_velos = reponse.json()\n",
    "        return donnees_velos\n",
    "    else:\n",
    "        # Si la requête a échoué, affiche un message d'erreur avec le code de statut HTTP\n",
    "        print(\"Erreur lors de la récupération des données:\", reponse.status_code)\n",
    "        return None\n",
    "\n",
    "def analyser_donnees_velos(donnees_velos):\n",
    "    if donnees_velos:\n",
    "        # Calcule le nombre total de vélos\n",
    "        total_velos = len(donnees_velos)\n",
    "        # Compte le nombre de vélos mécaniques\n",
    "        velos_mecaniques = sum(1 for velo in donnees_velos if 'type' in velo and velo['type'] == 'mechanical')\n",
    "        # Compte le nombre de vélos électriques\n",
    "        velos_electriques = sum(1 for velo in donnees_velos if 'type' in velo and velo['type'] == 'electric')\n",
    "        # Calcule le pourcentage de vélos mécaniques et électriques par rapport au total de vélos\n",
    "        pourcentage_mecaniques = (velos_mecaniques / total_velos) * 100 if total_velos > 0 else 0\n",
    "        pourcentage_electriques = (velos_electriques / total_velos) * 100 if total_velos > 0 else 0\n",
    "\n",
    "        # Affiche les statistiques sur les vélos\n",
    "        print(\"Statistiques sur les vélos :\")\n",
    "        print(\"Nombre total de vélos :\", total_velos)\n",
    "        print(\"Nombre de vélos mécaniques :\", velos_mecaniques)\n",
    "        print(\"Nombre de vélos électriques :\", velos_electriques)\n",
    "        print(\"Pourcentage de vélos mécaniques :\", pourcentage_mecaniques)\n",
    "        print(\"Pourcentage de vélos électriques :\", pourcentage_electriques)\n",
    "    else:\n",
    "        # Si aucune donnée n'a été récupérée, affiche un message\n",
    "        print(\"Aucune donnée à analyser.\")\n",
    "\n",
    "# Appelle la fonction pour récupérer les données des stations de vélos\n",
    "donnees_velos = obtenir_donnees_velos()\n",
    "# Analyse les données des stations de vélos\n",
    "analyser_donnees_velos(donnees_velos)\n"
   ]
  },
  {
   "cell_type": "code",
   "execution_count": null,
   "id": "32da05db-ed4a-4ba4-8c00-f38ebbb748c4",
   "metadata": {},
   "outputs": [],
   "source": []
  }
 ],
 "metadata": {
  "kernelspec": {
   "display_name": "Python 3 (ipykernel)",
   "language": "python",
   "name": "python3"
  },
  "language_info": {
   "codemirror_mode": {
    "name": "ipython",
    "version": 3
   },
   "file_extension": ".py",
   "mimetype": "text/x-python",
   "name": "python",
   "nbconvert_exporter": "python",
   "pygments_lexer": "ipython3",
   "version": "3.11.7"
  }
 },
 "nbformat": 4,
 "nbformat_minor": 5
}
